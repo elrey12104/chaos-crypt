{
 "cells": [
  {
   "cell_type": "markdown",
   "id": "backed-summit",
   "metadata": {},
   "source": [
    "# Performance Analysis of Chaotic Encryption System"
   ]
  },
  {
   "cell_type": "markdown",
   "id": "sacred-sacrifice",
   "metadata": {},
   "source": [
    "#### This file tests the performance of a chaotic encryption system for sensitivity \n",
    "\n",
    "##### Compares the apparent difference between the encrypted data and the original and the values of each parameter.  The optimum trend is for the values to trend towards 0.5"
   ]
  },
  {
   "cell_type": "code",
   "execution_count": 98,
   "id": "grateful-dollar",
   "metadata": {},
   "outputs": [],
   "source": [
    "import numpy as np\n",
    "import matplotlib.pyplot as plt\n",
    "%matplotlib qt\n",
    "  \n",
    "# importing required libraries\n",
    "from mpl_toolkits.mplot3d import Axes3D\n",
    "\n",
    "import matplotlib as mpl\n",
    "mpl.rcParams['agg.path.chunksize'] = 10000\n",
    "\n",
    "\n",
    "data = np.genfromtxt('../src/data.csv', delimiter = ',')\n"
   ]
  },
  {
   "cell_type": "code",
   "execution_count": 99,
   "id": "atmospheric-software",
   "metadata": {
    "scrolled": true
   },
   "outputs": [],
   "source": [
    "fig, axs = plt.subplots(2, 2)\n",
    "axs[0, 0].scatter(data[:,1], data[:,0])\n",
    "axs[0, 0].set_title('variance vs. σ')\n",
    "axs[0, 1].scatter(data[:,2], data[:,0])\n",
    "axs[0, 1].set_title('variance vs. ρ')\n",
    "axs[1, 0].scatter(data[:,3], data[:,0])\n",
    "axs[1, 0].set_title('variance vs. β')\n",
    "axs[1, 1].scatter(data[:,4], data[:,0])\n",
    "axs[1, 1].set_title('variance vs. γ')\n",
    "\n",
    "for ax in axs.flat:\n",
    "    ax.set(xlabel='parameter', ylabel='variance')\n",
    "\n",
    "# Hide x labels and tick labels for top plots and y ticks for right plots.\n",
    "for ax in axs.flat:\n",
    "    ax.label_outer()"
   ]
  },
  {
   "cell_type": "code",
   "execution_count": 102,
   "id": "suspected-strap",
   "metadata": {},
   "outputs": [
    {
     "data": {
      "text/plain": [
       "Text(0, 0.5, 'probability')"
      ]
     },
     "execution_count": 102,
     "metadata": {},
     "output_type": "execute_result"
    }
   ],
   "source": [
    "plt.plot(data[:,1][:100], data[:,0][:100], label = '2.2kb C file')\n",
    "plt.plot(data[:,1][100:200], data[:,0][100:200], label = '46mb file')\n",
    "plt.plot(data[:,1][200:300], data[:,0][200:300], label = '8.4mb file')\n",
    "plt.plot(data[:,1][300:400], data[:,0][300:400], label = '1.4mb file')\n",
    "plt.plot(data[:,1][400:500], data[:,0][400:500], label = '15.0mb file')\n",
    "plt.plot(data[:,1][500:600], data[:,0][500:600], label = '8.4mb file')\n",
    "plt.plot(data[:,1][600:700], data[:,0][600:700], label = '5.4mb file')\n",
    "\n",
    "\n",
    "\n",
    "plt.legend()\n",
    "plt.title('similarity between bits between original and encrypted data vs. σ')\n",
    "plt.xlabel('σ');\n",
    "plt.ylabel('probability')"
   ]
  },
  {
   "cell_type": "code",
   "execution_count": 101,
   "id": "built-brighton",
   "metadata": {},
   "outputs": [
    {
     "data": {
      "text/plain": [
       "Text(344.98989898989896, 0.5, 'probability')"
      ]
     },
     "execution_count": 101,
     "metadata": {},
     "output_type": "execute_result"
    }
   ],
   "source": [
    "plt.plot(data[:,2][:100], data[:,0][:100], label = '2.2kb file')\n",
    "plt.plot(data[:,2][100:200], data[:,0][100:200], label = '46mb epub file')\n",
    "plt.plot(data[:,2][200:300], data[:,0][200:300], label = '8.4mb mobi file')\n",
    "plt.plot(data[:,2][300:400], data[:,0][300:400], label = '1.4mb mobi file')\n",
    "plt.plot(data[:,2][400:500], data[:,0][400:500], label = '15.0mb mobi file')\n",
    "plt.plot(data[:,2][500:600], data[:,0][500:600], label = '8.4mb mobi file')\n",
    "plt.plot(data[:,2][600:700], data[:,0][600:700], label = '5.4mb modbi file')\n",
    "\n",
    "\n",
    "\n",
    "plt.legend()\n",
    "plt.title('similarity between bits between original and encrypted data vs. σ')\n",
    "plt.xlabel('σ');\n",
    "plt.ylabel('probability')"
   ]
  },
  {
   "cell_type": "code",
   "execution_count": 17,
   "id": "ethical-differential",
   "metadata": {},
   "outputs": [
    {
     "data": {
      "text/plain": [
       "Text(344.98989898989896, 0.5, 'probability')"
      ]
     },
     "execution_count": 17,
     "metadata": {},
     "output_type": "execute_result"
    }
   ],
   "source": [
    "plt.plot(data[:,3][:100], data[:,0][:100], label = '2.2kb file')\n",
    "plt.plot(data[:,3][100:200], data[:,0][100:200], label = '46mb file')\n",
    "plt.plot(data[:,3][200:300], data[:,0][200:300], label = '8.4mb file')\n",
    "plt.plot(data[:,3][300:400], data[:,0][300:400], label = '1.4mb file')\n",
    "plt.plot(data[:,3][400:500], data[:,0][400:500], label = '15.0mb file')\n",
    "plt.plot(data[:,3][500:600], data[:,0][500:600], label = '8.4mb file')\n",
    "plt.plot(data[:,3][600:700], data[:,0][600:700], label = '5.4mb file')\n",
    "\n",
    "\n",
    "\n",
    "plt.legend()\n",
    "plt.title('similarity between bits between original and encrypted data vs. σ')\n",
    "plt.xlabel('σ');\n",
    "plt.ylabel('probability')"
   ]
  },
  {
   "cell_type": "code",
   "execution_count": 103,
   "id": "political-delicious",
   "metadata": {},
   "outputs": [
    {
     "data": {
      "text/plain": [
       "Text(0, 0.5, 'probability')"
      ]
     },
     "execution_count": 103,
     "metadata": {},
     "output_type": "execute_result"
    }
   ],
   "source": [
    "plt.plot(data[:,4][:100], data[:,0][:100], label = '2.2kB C file')\n",
    "plt.plot(data[:,4][100:200], data[:,0][100:200], label = '46mB epub file')\n",
    "plt.plot(data[:,4][200:300], data[:,0][200:300], label = '8.4mB mobi file')\n",
    "plt.plot(data[:,4][300:400], data[:,0][300:400], label = '1.4mB mobi file')\n",
    "plt.plot(data[:,4][400:500], data[:,0][400:500], label = '15.0mB mobi file')\n",
    "plt.plot(data[:,4][500:600], data[:,0][500:600], label = '8.4mB mobi file')\n",
    "plt.plot(data[:,4][600:700], data[:,0][600:700], label = '5.4mB mobi file')\n",
    "plt.plot(data[:,4][700:800], data[:,0][700:800], label = '1.1GB mp4 file')\n",
    "\n",
    "\n",
    "\n",
    "plt.legend()\n",
    "plt.title('similarity between bits between original and encrypted data vs. σ')\n",
    "plt.xlabel('σ');\n",
    "plt.ylabel('probability')"
   ]
  },
  {
   "cell_type": "code",
   "execution_count": 67,
   "id": "lovely-effort",
   "metadata": {},
   "outputs": [],
   "source": [
    "data = np.genfromtxt('../src/out.enc', delimiter = ',', dtype = (\"longdouble\"))"
   ]
  },
  {
   "cell_type": "code",
   "execution_count": 68,
   "id": "rural-richardson",
   "metadata": {},
   "outputs": [
    {
     "data": {
      "text/plain": [
       "array([[ 1.28750000e+02,  8.87500000e+01,  1.28750000e+02,\n",
       "         2.62500000e+01],\n",
       "       [ 5.52812500e+02,  1.87296875e+03,  5.52812500e+02,\n",
       "         8.65625000e+01],\n",
       "       [ 9.17945312e+03, -1.56688476e+06,  9.17945312e+03,\n",
       "         2.21328125e+02],\n",
       "       ...,\n",
       "       [ 1.53479294e+38,  5.26086210e+37,  1.53479294e+38,\n",
       "         8.15751348e+37],\n",
       "       [ 1.18863948e+38,  5.55188589e+37,  1.18863948e+38,\n",
       "         5.20350390e+37],\n",
       "       [ 1.37522040e+38,  6.32254795e+37,  1.37522040e+38,\n",
       "         6.96283282e+37]], dtype=float128)"
      ]
     },
     "execution_count": 68,
     "metadata": {},
     "output_type": "execute_result"
    }
   ],
   "source": [
    "data"
   ]
  },
  {
   "cell_type": "code",
   "execution_count": 86,
   "id": "attractive-updating",
   "metadata": {
    "scrolled": true
   },
   "outputs": [],
   "source": [
    "xx=list(range(len(data[:,0][::1000])))\n",
    "plt.plot(xx, data[:,0][::1000], linewidth=0.3)\n",
    "plt.xlabel(\"t\")\n",
    "plt.ylabel(\"x\")\n",
    "plt.title(\"x-axis of a lorenz-stenflo system\")\n",
    "plt.show()\n"
   ]
  },
  {
   "cell_type": "code",
   "execution_count": 121,
   "id": "built-stone",
   "metadata": {},
   "outputs": [],
   "source": [
    "fig = plt.figure()\n",
    "ax = Axes3D(fig)\n",
    "\n",
    "ax.plot3D(data[:,0], data[:,1], data[:,2], 'green', linewidth = 0.4)\n",
    "ax.set_xlabel(\"x\")\n",
    "ax.set_ylabel(\"y\")\n",
    "ax.set_zlabel(\"z\")\n",
    "ax.set_title('xyz plot of a lorenz-stenflo system')\n",
    "plt.show()"
   ]
  },
  {
   "cell_type": "code",
   "execution_count": 122,
   "id": "seeing-somerset",
   "metadata": {
    "scrolled": true
   },
   "outputs": [],
   "source": [
    "fig = plt.figure()\n",
    "ax = plt.axes(projection ='3d')\n",
    "\n",
    "ax.plot3D(data[:,1], data[:,2], data[:,3], 'green', linewidth = 0.4)\n",
    "ax.set_title('yzw plot of a lorenz-stenflo system')\n",
    "\n",
    "ax.set_xlabel(\"y\")\n",
    "ax.set_ylabel(\"z\")\n",
    "ax.set_zlabel(\"w\")\n",
    "plt.show()"
   ]
  },
  {
   "cell_type": "code",
   "execution_count": 123,
   "id": "respiratory-parker",
   "metadata": {},
   "outputs": [],
   "source": [
    "fig = plt.figure()\n",
    "ax = plt.axes(projection ='3d')\n",
    "\n",
    "ax.plot3D(data[:,0], data[:,2], data[:,3], 'green', linewidth = 0.4)\n",
    "ax.set_xlabel(\"x\")\n",
    "ax.set_ylabel(\"z\")\n",
    "ax.set_zlabel(\"w\")\n",
    "ax.set_title('xzw plot of a lorenz-stenflo system')\n",
    "plt.show()"
   ]
  },
  {
   "cell_type": "code",
   "execution_count": 124,
   "id": "running-vanilla",
   "metadata": {},
   "outputs": [],
   "source": [
    "fig = plt.figure()\n",
    "ax = plt.axes(projection ='3d')\n",
    "\n",
    "ax.plot3D(data[:,0], data[:,1], data[:,3], 'green', linewidth = 0.4)\n",
    "ax.set_xlabel(\"x\")\n",
    "ax.set_ylabel(\"y\")\n",
    "ax.set_zlabel(\"w\")\n",
    "ax.set_title('xyw plot of a lorenz-stenflo system')\n",
    "plt.show()"
   ]
  },
  {
   "cell_type": "code",
   "execution_count": null,
   "id": "passing-translator",
   "metadata": {},
   "outputs": [],
   "source": []
  }
 ],
 "metadata": {
  "kernelspec": {
   "display_name": "Python 3",
   "language": "python",
   "name": "python3"
  },
  "language_info": {
   "codemirror_mode": {
    "name": "ipython",
    "version": 3
   },
   "file_extension": ".py",
   "mimetype": "text/x-python",
   "name": "python",
   "nbconvert_exporter": "python",
   "pygments_lexer": "ipython3",
   "version": "3.8.10"
  }
 },
 "nbformat": 4,
 "nbformat_minor": 5
}
