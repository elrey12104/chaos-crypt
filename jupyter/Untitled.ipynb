{
 "cells": [
  {
   "cell_type": "markdown",
   "id": "backed-summit",
   "metadata": {},
   "source": [
    "# Performance Analysis of Chaotic Encryption System"
   ]
  },
  {
   "cell_type": "markdown",
   "id": "sacred-sacrifice",
   "metadata": {},
   "source": [
    "#### This file tests the performance of a chaotic encryption system for sensitivity \n",
    "\n",
    "##### Compares the apparent difference between the encrypted data and the original and the values of each parameter.  The optimum trend is for the values to trend towards 0.5"
   ]
  },
  {
   "cell_type": "code",
   "execution_count": 27,
   "id": "grateful-dollar",
   "metadata": {},
   "outputs": [],
   "source": [
    "import numpy as np\n",
    "import matplotlib.pyplot as plt\n",
    "\n",
    "data = np.genfromtxt('../src/data.csv', delimiter = ',')"
   ]
  },
  {
   "cell_type": "code",
   "execution_count": 28,
   "id": "atmospheric-software",
   "metadata": {},
   "outputs": [
    {
     "data": {
      "image/png": "[encoded data removed]",
      "text/plain": [
       "<Figure size 432x288 with 4 Axes>"
      ]
     },
     "metadata": {
      "needs_background": "light"
     },
     "output_type": "display_data"
    }
   ],
   "source": [
    "fig, axs = plt.subplots(2, 2)\n",
    "axs[0, 0].scatter(data[:,1], data[:,0])\n",
    "axs[0, 0].set_title('variance vs. σ')\n",
    "axs[0, 1].scatter(data[:,2], data[:,0])\n",
    "axs[0, 1].set_title('variance vs. ρ')\n",
    "axs[1, 0].scatter(data[:,3], data[:,0])\n",
    "axs[1, 0].set_title('variance vs. β')\n",
    "axs[1, 1].scatter(data[:,4], data[:,0])\n",
    "axs[1, 1].set_title('variance vs. γ')\n",
    "\n",
    "for ax in axs.flat:\n",
    "    ax.set(xlabel='variance', ylabel='parameter')\n",
    "\n",
    "# Hide x labels and tick labels for top plots and y ticks for right plots.\n",
    "for ax in axs.flat:\n",
    "    ax.label_outer()"
   ]
  },
  {
   "cell_type": "code",
   "execution_count": 29,
   "id": "suspected-strap",
   "metadata": {},
   "outputs": [
    {
     "data": {
      "text/plain": [
       "<matplotlib.collections.PathCollection at 0x7f11e6853940>"
      ]
     },
     "execution_count": 29,
     "metadata": {},
     "output_type": "execute_result"
    },
    {
     "data": {
      "image/png": "[encoded data removed]",
      "text/plain": [
       "<Figure size 432x288 with 1 Axes>"
      ]
     },
     "metadata": {
      "needs_background": "light"
     },
     "output_type": "display_data"
    }
   ],
   "source": [
    "plt.scatter(data[:,1], data[:,0])"
   ]
  },
  {
   "cell_type": "code",
   "execution_count": 30,
   "id": "large-announcement",
   "metadata": {},
   "outputs": [
    {
     "name": "stdout",
     "output_type": "stream",
     "text": [
      "[[        nan 9.11647e-01 1.97551e-01 3.35223e-01 7.68230e-01 2.24700e-03]\n",
      " [        nan 9.52230e-01 9.16195e-01 6.35712e-01 7.17297e-01 1.82000e-04]\n",
      " [        nan 1.56679e-01 4.00944e-01 1.29790e-01 1.08809e-01 1.35000e-04]\n",
      " [        nan 6.37552e-01 5.24287e-01 4.93583e-01 9.72775e-01 1.82000e-04]\n",
      " [        nan 2.83315e-01 3.52458e-01 8.07725e-01 9.19026e-01 2.04000e-04]\n",
      " [        nan 8.90233e-01 3.48893e-01 6.41710e-02 2.00230e-02 1.74000e-04]\n",
      " [        nan 2.66666e-01 5.39760e-01 3.75207e-01 7.60249e-01 1.51000e-04]\n",
      " [        nan 9.30810e-01 7.20952e-01 2.84293e-01 7.38534e-01 1.46000e-04]\n",
      " [        nan 8.29201e-01 3.30337e-01 2.28968e-01 8.93372e-01 1.90000e-04]\n",
      " [        nan 4.39560e-01 9.23970e-01 3.98437e-01 8.14767e-01 1.86000e-04]\n",
      " [        nan 1.47660e-01 8.81062e-01 6.41081e-01 4.31953e-01 1.60000e-04]\n",
      " [        nan 1.87533e-01 2.76235e-01 5.56444e-01 4.16501e-01 1.65000e-04]\n",
      " [        nan 9.84752e-01 9.35004e-01 6.84445e-01 3.83188e-01 1.53000e-04]\n",
      " [        nan 1.52390e-01 7.32149e-01 1.25475e-01 7.93470e-01 2.02000e-04]\n",
      " [        nan 1.76211e-01 2.40062e-01 7.97798e-01 7.32654e-01 1.12000e-04]\n",
      " [        nan 5.20210e-01 7.82320e-02 6.99060e-02 2.04655e-01 1.40000e-04]\n",
      " [        nan 9.99994e-01 2.04329e-01 8.89956e-01 1.25468e-01 2.27000e-04]\n",
      " [        nan 5.93892e-01 1.80372e-01 1.63132e-01 3.91690e-01 1.20000e-04]\n",
      " [        nan 6.87387e-01 9.96400e-02 5.30808e-01 7.57294e-01 1.61000e-04]\n",
      " [        nan 3.54210e-02 7.47803e-01 8.33239e-01 9.25377e-01 1.53000e-04]\n",
      " [        nan 6.66880e-01 4.97259e-01 1.63968e-01 8.30012e-01 1.46000e-04]\n",
      " [        nan 7.00620e-01 3.16867e-01 3.28777e-01 2.31428e-01 1.45000e-04]\n",
      " [        nan 2.80042e-01 5.46107e-01 7.19269e-01 1.13281e-01 1.21000e-04]\n",
      " [        nan 4.34513e-01 3.23100e-03 3.44943e-01 5.98481e-01 1.41000e-04]\n",
      " [        nan 7.12087e-01 1.82556e-01 6.21823e-01 4.08640e-02 2.39000e-04]\n",
      " [        nan 6.09106e-01 6.27158e-01 7.30729e-01 3.28374e-01 1.23000e-04]\n",
      " [        nan 5.32441e-01 8.76440e-02 2.60497e-01 8.77384e-01 1.96000e-04]\n",
      " [        nan 6.66557e-01 2.88778e-01 7.75767e-01 2.88379e-01 1.16000e-04]\n",
      " [        nan 1.88201e-01 4.36497e-01 9.58637e-01 9.18930e-01 1.21000e-04]\n",
      " [        nan 9.43051e-01 9.16273e-01 8.61917e-01 2.03548e-01 1.41000e-04]\n",
      " [        nan 4.98144e-01 5.76200e-01 1.62757e-01 2.73911e-01 2.06000e-04]\n",
      " [        nan 1.80421e-01 6.84178e-01 7.27550e-01 1.39058e-01 2.03000e-04]\n",
      " [        nan 4.98525e-01 1.21259e-01 1.38238e-01 3.60443e-01 1.52000e-04]\n",
      " [        nan 4.96074e-01 3.34972e-01 3.94327e-01 6.58831e-01 1.57000e-04]\n",
      " [        nan 3.63598e-01 2.88270e-01 3.31386e-01 9.11490e-02 1.79000e-04]\n",
      " [        nan 4.87427e-01 1.57272e-01 8.83037e-01 6.25665e-01 1.55000e-04]\n",
      " [        nan 2.44327e-01 3.26013e-01 7.29360e-01 6.38654e-01 2.38000e-04]\n",
      " [        nan 7.83282e-01 7.74386e-01 2.93678e-01 1.14668e-01 1.89000e-04]\n",
      " [        nan 2.10883e-01 4.73894e-01 8.65181e-01 9.39200e-02 1.19000e-04]\n",
      " [        nan 5.15080e-02 5.34220e-02 4.57716e-01 7.80868e-01 1.20000e-04]\n",
      " [        nan 5.95045e-01 3.61917e-01 3.04285e-01 8.88723e-01 1.58000e-04]\n",
      " [        nan 2.33656e-01 8.29808e-01 7.00900e-02 9.88370e-02 1.48000e-04]\n",
      " [        nan 3.57193e-01 8.78278e-01 3.44251e-01 8.14909e-01 4.99156e-01]\n",
      " [        nan 3.08157e-01 2.21009e-01 1.98021e-01 6.12442e-01 4.91983e-01]\n",
      " [        nan 3.15658e-01 4.34009e-01 2.30996e-01 3.85748e-01 5.09120e-01]\n",
      " [        nan 3.05408e-01 7.37408e-01 2.60445e-01 6.49659e-01 5.16216e-01]\n",
      " [        nan 6.45889e-01 6.00500e-03 5.32960e-01 8.43910e-01 4.99807e-01]\n",
      " [        nan 8.01897e-01 6.77812e-01 1.52876e-01 3.28930e-02 4.94438e-01]\n",
      " [        nan 1.12500e-03 5.70900e-03 3.05239e-01 2.61570e-01 5.20706e-01]\n",
      " [        nan 6.53305e-01 3.13230e-01 8.85014e-01 1.86265e-01 5.10755e-01]\n",
      " [        nan 3.94521e-01 7.06067e-01 8.68924e-01 5.47397e-01 5.19314e-01]\n",
      " [        nan 4.94407e-01 5.52568e-01 9.39129e-01 7.99646e-01 5.25363e-01]\n",
      " [        nan 8.74309e-01 5.89157e-01 6.37771e-01 7.59324e-01 5.29524e-01]\n",
      " [        nan 7.95490e-01 8.65085e-01 8.73021e-01 6.64414e-01 5.19572e-01]\n",
      " [        nan 5.79022e-01 3.29630e-02 7.00910e-01 5.18151e-01 5.21081e-01]\n",
      " [        nan 8.14351e-01 3.84658e-01 6.37656e-01 4.52122e-01 5.14760e-01]\n",
      " [        nan 5.73721e-01 8.12947e-01 5.82682e-01 4.46743e-01 4.94432e-01]\n",
      " [        nan 2.22602e-01 2.19788e-01 6.30243e-01 9.23513e-01 5.19640e-01]\n",
      " [        nan 8.99086e-01 7.67014e-01 3.33569e-01 5.36743e-01 5.20350e-01]\n",
      " [        nan 1.83765e-01 4.58039e-01 7.80224e-01 7.66448e-01 5.07308e-01]\n",
      " [        nan 5.60785e-01 5.54448e-01 6.22167e-01 1.91028e-01 4.90482e-01]\n",
      " [        nan 8.65434e-01 1.09778e-01 3.73556e-01 1.99003e-01 5.24446e-01]\n",
      " [        nan 5.63617e-01 2.42626e-01 1.89110e-02 3.43841e-01 5.15814e-01]\n",
      " [        nan 1.73065e-01 4.47982e-01 4.87721e-01 7.95231e-01 4.90322e-01]\n",
      " [        nan 8.99431e-01 7.47638e-01 4.75806e-01 2.72987e-01 5.23320e-01]\n",
      " [        nan 1.84066e-01 2.82284e-01 1.67165e-01 2.02977e-01 4.93946e-01]\n",
      " [        nan 1.60824e-01 1.19989e-01 4.61848e-01 6.48545e-01 5.05647e-01]\n",
      " [        nan 4.36585e-01 2.93177e-01 2.44069e-01 9.12391e-01 5.12401e-01]\n",
      " [        nan 3.56383e-01 9.97970e-01 3.56660e-02 5.23548e-01 5.02336e-01]\n",
      " [        nan 3.41482e-01 5.01680e-02 7.66701e-01 8.03330e-01 4.93621e-01]\n",
      " [        nan 8.09371e-01 1.89064e-01 5.91111e-01 5.34390e-02 4.96773e-01]\n",
      " [        nan 8.89553e-01 9.45502e-01 5.60220e-02 9.25220e-01 5.07643e-01]\n",
      " [        nan 8.15549e-01 9.26068e-01 5.26523e-01 5.82250e-01 4.93651e-01]\n",
      " [        nan 9.31518e-01 3.47546e-01 2.05714e-01 5.22629e-01 4.94756e-01]\n",
      " [        nan 7.03186e-01 3.32892e-01 2.14524e-01 7.59208e-01 4.87681e-01]\n",
      " [        nan 3.21478e-01 6.67960e-01 5.26830e-01 8.48000e-01 4.96967e-01]\n",
      " [        nan 5.31033e-01 8.21331e-01 9.58957e-01 7.36747e-01 5.18471e-01]\n",
      " [        nan 2.92886e-01 7.08262e-01 8.20146e-01 5.07410e-01 5.01693e-01]\n",
      " [        nan 8.44110e-02 2.44858e-01 7.11355e-01 6.11241e-01 4.94304e-01]\n",
      " [        nan 7.77505e-01 6.98000e-03 5.78613e-01 7.36462e-01 5.03003e-01]\n",
      " [        nan 2.74897e-01 2.39321e-01 8.09743e-01 9.50430e-02 4.93259e-01]\n",
      " [        nan 9.81109e-01 8.45273e-01 3.41540e-01 6.92463e-01 4.98273e-01]\n",
      " [        nan 8.12650e-02 3.77997e-01 1.36956e-01 6.59878e-01 5.00803e-01]\n",
      " [        nan 3.12343e-01 9.43222e-01 7.68206e-01 1.22086e-01 5.03715e-01]\n",
      " [        nan 3.08247e-01 4.33758e-01 5.43500e-03 6.49787e-01 8.97560e-02]\n",
      " [        nan 9.10227e-01 8.67197e-01 6.26740e-02 4.71830e-02 9.13050e-02]\n",
      " [        nan 6.38409e-01 7.00340e-01 5.39413e-01 4.06615e-01 8.99810e-02]\n",
      " [        nan 3.81888e-01 9.74910e-02 8.07959e-01 3.87323e-01 9.40170e-02]\n",
      " [        nan 5.16139e-01 6.24658e-01 5.02401e-01 5.78813e-01 1.00786e-01]\n",
      " [        nan 1.95898e-01 7.77410e-01 8.44281e-01 7.35311e-01 8.98050e-02]\n",
      " [        nan 4.79777e-01 2.70321e-01 1.99724e-01 2.87736e-01 8.87280e-02]\n",
      " [        nan 1.42119e-01 2.94601e-01 5.61007e-01 6.44520e-01 9.32320e-02]\n",
      " [        nan 7.73301e-01 2.84530e-02 5.90407e-01 6.17582e-01 8.93270e-02]\n",
      " [        nan 1.78987e-01 3.59786e-01 4.43043e-01 3.78710e-01 8.89640e-02]\n",
      " [        nan 8.05789e-01 7.49719e-01 3.98775e-01 3.66796e-01 8.94360e-02]\n",
      " [        nan 8.81232e-01 6.74850e-01 4.60652e-01 4.71639e-01 9.07020e-02]\n",
      " [        nan 7.49443e-01 4.80155e-01 4.85866e-01 1.92486e-01 9.05620e-02]\n",
      " [        nan 2.88752e-01 8.08617e-01 6.50491e-01 6.87527e-01 8.86760e-02]\n",
      " [        nan 2.07257e-01 9.94196e-01 5.36115e-01 6.67908e-01 8.91530e-02]\n",
      " [        nan 8.37986e-01 1.54711e-01 6.73648e-01 3.23852e-01 9.39390e-02]\n",
      " [        nan 5.41140e-01 5.84300e-03 2.68684e-01 1.91630e-01 8.92840e-02]\n",
      " [        nan 5.14352e-01 4.26412e-01 3.43520e-01 5.04660e-02 8.94910e-02]\n",
      " [        nan 1.80136e-01 3.59247e-01 4.38990e-01 8.53785e-01 8.92950e-02]\n",
      " [        nan 6.00405e-01 9.67694e-01 1.09233e-01 8.69090e-01 8.85800e-02]\n",
      " [        nan 7.45008e-01 9.70042e-01 9.58753e-01 8.85280e-02 9.63520e-02]\n",
      " [        nan 1.83801e-01 2.19853e-01 7.78391e-01 6.22791e-01 9.88890e-02]\n",
      " [        nan 5.63327e-01 2.02232e-01 8.03227e-01 6.72560e-01 9.60710e-02]\n",
      " [        nan 9.16851e-01 1.03244e-01 9.00896e-01 8.75604e-01 8.77650e-02]\n",
      " [        nan 5.08799e-01 4.72700e-03 1.88248e-01 2.87189e-01 9.14000e-02]]\n"
     ]
    }
   ],
   "source": [
    "plt.scatter()"
   ]
  },
  {
   "cell_type": "code",
   "execution_count": null,
   "id": "ethical-differential",
   "metadata": {},
   "outputs": [],
   "source": []
  }
 ],
 "metadata": {
  "kernelspec": {
   "display_name": "Python 3",
   "language": "python",
   "name": "python3"
  },
  "language_info": {
   "codemirror_mode": {
    "name": "ipython",
    "version": 3
   },
   "file_extension": ".py",
   "mimetype": "text/x-python",
   "name": "python",
   "nbconvert_exporter": "python",
   "pygments_lexer": "ipython3",
   "version": "3.8.10"
  }
 },
 "nbformat": 4,
 "nbformat_minor": 5
}
